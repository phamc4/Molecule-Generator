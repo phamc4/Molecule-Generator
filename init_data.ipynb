{
 "cells": [
  {
   "cell_type": "code",
   "execution_count": 1,
   "metadata": {},
   "outputs": [],
   "source": [
    "import pandas as pd\n",
    "import boto3\n",
    "\n",
    "client = boto3.client('s3')\n",
    "\n",
    "bucket = 'smilesmolecules'\n",
    "\n",
    "\n",
    "def get_files(client, bucket):\n",
    "    csv_files = []\n",
    "    content = client.list_objects(Bucket=bucket).get('Contents')\n",
    "    for obj in content:\n",
    "        key = obj.get('Key')\n",
    "        if '.smi' in key:\n",
    "            csv_files.append(key)\n",
    "            \n",
    "    return csv_files\n",
    "\n",
    "test = get_files(client, bucket)\n",
    "len(test)\n",
    "\n",
    "df = []\n",
    "\n",
    "split1 = test[:100]\n",
    "\n",
    "for obj in split1:\n",
    "    dataframe = pd.read_csv('s3://smilesmolecules/' + obj, delimiter = ' ')\n",
    "    df.append(dataframe)\n",
    "\n",
    "    \n",
    "df1 = pd.concat(df)\n",
    "\n",
    "df1"
   ]
  }
 ],
 "metadata": {
  "kernelspec": {
   "display_name": "conda_tensorflow_p36",
   "language": "python",
   "name": "conda_tensorflow_p36"
  },
  "language_info": {
   "codemirror_mode": {
    "name": "ipython",
    "version": 3
   },
   "file_extension": ".py",
   "mimetype": "text/x-python",
   "name": "python",
   "nbconvert_exporter": "python",
   "pygments_lexer": "ipython3",
   "version": "3.6.6"
  }
 },
 "nbformat": 4,
 "nbformat_minor": 4
}
